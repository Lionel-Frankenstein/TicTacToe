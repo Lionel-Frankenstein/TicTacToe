{
  "cells": [
    {
      "cell_type": "markdown",
      "metadata": {
        "id": "view-in-github",
        "colab_type": "text"
      },
      "source": [
        "<a href=\"https://colab.research.google.com/github/Lionel-Frankenstein/TicTacToe/blob/main/tictactoe.ipynb\" target=\"_parent\"><img src=\"https://colab.research.google.com/assets/colab-badge.svg\" alt=\"Open In Colab\"/></a>"
      ]
    },
    {
      "cell_type": "code",
      "execution_count": 2,
      "metadata": {
        "id": "y9gbFk-jjzJE"
      },
      "outputs": [],
      "source": [
        "def printBoard():\n",
        "  print(board[:3])\n",
        "  print(board[3:6])\n",
        "  print(board[6:])\n",
        "  print()"
      ]
    },
    {
      "cell_type": "code",
      "execution_count": 3,
      "metadata": {
        "id": "M5NwyjgBj3S6"
      },
      "outputs": [],
      "source": [
        "def isDone():\n",
        "  done_list = [\n",
        "      [0,1,2],\n",
        "      [3,4,5],\n",
        "      [6,7,8],\n",
        "      [0,3,6],\n",
        "      [1,4,7],\n",
        "      [2,5,8],\n",
        "      [0,4,8],\n",
        "      [2,4,6]\n",
        "  ]\n",
        "  for i in done_list:\n",
        "    if (board[i[0]] == 'X' or board[i[0]] == 'O') and board[i[0]] == board[i[1]] and board[i[0]] == board[i[2]]:\n",
        "      return True\n",
        "  return False"
      ]
    },
    {
      "cell_type": "code",
      "execution_count": 4,
      "metadata": {
        "id": "RrgUgaJWk78z"
      },
      "outputs": [],
      "source": [
        "def findLegalMoves():\n",
        "  a = []\n",
        "  for i in range(9):\n",
        "    if board[i] == \" \":\n",
        "      a.append(i)\n",
        "  return a"
      ]
    },
    {
      "cell_type": "code",
      "execution_count": 7,
      "metadata": {
        "id": "2tNEUed_lJ_s"
      },
      "outputs": [],
      "source": [
        "def miniMax(turn, depth, maximize):\n",
        "  legal_moves = findLegalMoves()\n",
        "  if legal_moves == []:\n",
        "    return 0, None, None\n",
        "  dic = {}\n",
        "  if maximize:\n",
        "    for move in legal_moves:\n",
        "      board[move] = turn\n",
        "      if isDone():\n",
        "        dic[move] = 100 - depth\n",
        "        board[move] = ' '\n",
        "        continue\n",
        "      next_turn = 'X' if turn == 'O' else 'O'\n",
        "      value = miniMax(next_turn, depth+1, False)[0]\n",
        "      board[move] = ' '\n",
        "      dic[move] = value\n",
        "    maximum = float('-inf')\n",
        "    best_move = 0\n",
        "    for item in dic:\n",
        "      if dic[item] > maximum:\n",
        "        maximum = dic[item]\n",
        "        best_move = item\n",
        "    return maximum, best_move, dic\n",
        "  else:\n",
        "    for move in legal_moves:\n",
        "      board[move] = turn\n",
        "      if isDone():\n",
        "        dic[move] = depth - 100\n",
        "        board[move] = ' '\n",
        "        continue\n",
        "      next_turn = 'X' if turn == 'O' else 'O'\n",
        "      value = miniMax(next_turn, depth+1, True)[0]\n",
        "      board[move] = ' '\n",
        "      dic[move] = value\n",
        "    minimum = float('inf')\n",
        "    best_move = 0\n",
        "    for item in dic:\n",
        "      if dic[item] < minimum:\n",
        "        minimum = dic[item]\n",
        "        best_move = item\n",
        "    return minimum, best_move, dic"
      ]
    },
    {
      "cell_type": "code",
      "execution_count": 17,
      "metadata": {
        "id": "2s5lpPfj_ZIR",
        "colab": {
          "base_uri": "https://localhost:8080/"
        },
        "outputId": "1d1a8667-363d-4630-ae11-f9a4cb99fef3"
      },
      "outputs": [
        {
          "output_type": "stream",
          "name": "stdout",
          "text": [
            "['O', 'X', 'O']\n",
            "['O', 'X', ' ']\n",
            "['X', 'O', 'X']\n",
            "\n",
            "Choose Your Next Move (0~8): 5\n",
            "['O', 'X', 'O']\n",
            "['O', 'X', 'X']\n",
            "['X', 'O', 'X']\n",
            "\n",
            "Draw!\n"
          ]
        }
      ],
      "source": [
        "from IPython.display import clear_output\n",
        "\n",
        "board = [\" \" for i in range(9)]\n",
        "print(\"Welcome!\")\n",
        "printBoard()\n",
        "while True:\n",
        "  pm = int(input(\"\\rChoose Your Next Move (0~8): \"))\n",
        "  board[pm] = 'X'\n",
        "  printBoard()\n",
        "  if isDone():\n",
        "    print(\"You Win!\")\n",
        "    break\n",
        "  if findLegalMoves() == []:\n",
        "    print(\"Draw!\")\n",
        "    break\n",
        "  om = miniMax('O', 0, True)[1]\n",
        "  board[om] = 'O'\n",
        "  clear_output()\n",
        "  printBoard()\n",
        "  if isDone():\n",
        "    print(\"You Lose!\")\n",
        "    break"
      ]
    },
    {
      "cell_type": "code",
      "execution_count": null,
      "metadata": {
        "id": "bfIrjUA9JPJg"
      },
      "outputs": [],
      "source": []
    }
  ],
  "metadata": {
    "colab": {
      "provenance": [],
      "authorship_tag": "ABX9TyNe7acckcKljr9ho+wgBitd",
      "include_colab_link": true
    },
    "kernelspec": {
      "display_name": "Python 3",
      "name": "python3"
    },
    "language_info": {
      "name": "python"
    }
  },
  "nbformat": 4,
  "nbformat_minor": 0
}